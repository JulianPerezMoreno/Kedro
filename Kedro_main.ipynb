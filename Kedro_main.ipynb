{
 "cells": [
  {
   "cell_type": "code",
   "execution_count": 1,
   "metadata": {},
   "outputs": [
    {
     "name": "stdout",
     "output_type": "stream",
     "text": [
      "Collecting kedro\n",
      "  Using cached kedro-0.19.6-py3-none-any.whl (170 kB)\n",
      "Collecting cookiecutter<3.0,>=2.1.1\n",
      "  Using cached cookiecutter-2.6.0-py3-none-any.whl (39 kB)\n",
      "Requirement already satisfied: pluggy>=1.0 in c:\\users\\joe_w\\anaconda3\\lib\\site-packages (from kedro) (1.0.0)\n",
      "Collecting more-itertools>=8.14.0\n",
      "  Using cached more_itertools-10.3.0-py3-none-any.whl (59 kB)\n",
      "Requirement already satisfied: toml>=0.10.0 in c:\\users\\joe_w\\anaconda3\\lib\\site-packages (from kedro) (0.10.2)\n",
      "Requirement already satisfied: importlib-metadata<8.0,>=3.6 in c:\\users\\joe_w\\anaconda3\\lib\\site-packages (from kedro) (4.11.3)\n",
      "Collecting rich<14.0,>=12.0\n",
      "  Using cached rich-13.7.1-py3-none-any.whl (240 kB)\n",
      "Requirement already satisfied: rope<2.0,>=0.21 in c:\\users\\joe_w\\anaconda3\\lib\\site-packages (from kedro) (0.22.0)\n",
      "Collecting importlib-resources<7.0,>=1.3\n",
      "  Using cached importlib_resources-6.4.0-py3-none-any.whl (38 kB)\n",
      "Collecting omegaconf>=2.1.1\n",
      "  Using cached omegaconf-2.3.0-py3-none-any.whl (79 kB)\n",
      "Collecting build>=0.7.0\n",
      "  Using cached build-1.2.1-py3-none-any.whl (21 kB)\n",
      "Requirement already satisfied: attrs>=21.3 in c:\\users\\joe_w\\anaconda3\\lib\\site-packages (from kedro) (21.4.0)\n",
      "Requirement already satisfied: click>=4.0 in c:\\users\\joe_w\\anaconda3\\lib\\site-packages (from kedro) (8.0.4)\n",
      "Collecting cachetools>=4.1\n",
      "  Using cached cachetools-5.3.3-py3-none-any.whl (9.3 kB)\n",
      "Collecting parse>=1.19.0\n",
      "  Using cached parse-1.20.2-py2.py3-none-any.whl (20 kB)\n",
      "Collecting gitpython>=3.0\n",
      "  Using cached GitPython-3.1.43-py3-none-any.whl (207 kB)\n",
      "Collecting pre-commit-hooks\n",
      "  Using cached pre_commit_hooks-4.6.0-py2.py3-none-any.whl (41 kB)\n",
      "Requirement already satisfied: fsspec>=2021.4 in c:\\users\\joe_w\\anaconda3\\lib\\site-packages (from kedro) (2022.7.1)\n",
      "Collecting dynaconf<4.0,>=3.1.2\n",
      "  Using cached dynaconf-3.2.5-py2.py3-none-any.whl (230 kB)\n",
      "Requirement already satisfied: PyYAML<7.0,>=4.2 in c:\\users\\joe_w\\anaconda3\\lib\\site-packages (from kedro) (6.0)\n",
      "Requirement already satisfied: tomli>=1.1.0 in c:\\users\\joe_w\\anaconda3\\lib\\site-packages (from build>=0.7.0->kedro) (2.0.1)\n",
      "Requirement already satisfied: packaging>=19.1 in c:\\users\\joe_w\\anaconda3\\lib\\site-packages (from build>=0.7.0->kedro) (21.3)\n",
      "Requirement already satisfied: colorama in c:\\users\\joe_w\\anaconda3\\lib\\site-packages (from build>=0.7.0->kedro) (0.4.5)\n",
      "Collecting pyproject_hooks\n",
      "  Using cached pyproject_hooks-1.1.0-py3-none-any.whl (9.2 kB)\n",
      "Requirement already satisfied: python-slugify>=4.0.0 in c:\\users\\joe_w\\anaconda3\\lib\\site-packages (from cookiecutter<3.0,>=2.1.1->kedro) (5.0.2)\n",
      "Requirement already satisfied: Jinja2<4.0.0,>=2.7 in c:\\users\\joe_w\\anaconda3\\lib\\site-packages (from cookiecutter<3.0,>=2.1.1->kedro) (2.11.3)\n",
      "Requirement already satisfied: arrow in c:\\users\\joe_w\\anaconda3\\lib\\site-packages (from cookiecutter<3.0,>=2.1.1->kedro) (1.2.2)\n",
      "Requirement already satisfied: requests>=2.23.0 in c:\\users\\joe_w\\anaconda3\\lib\\site-packages (from cookiecutter<3.0,>=2.1.1->kedro) (2.28.1)\n",
      "Requirement already satisfied: binaryornot>=0.4.4 in c:\\users\\joe_w\\anaconda3\\lib\\site-packages (from cookiecutter<3.0,>=2.1.1->kedro) (0.4.4)\n",
      "Collecting gitdb<5,>=4.0.1\n",
      "  Using cached gitdb-4.0.11-py3-none-any.whl (62 kB)\n",
      "Requirement already satisfied: zipp>=0.5 in c:\\users\\joe_w\\anaconda3\\lib\\site-packages (from importlib-metadata<8.0,>=3.6->kedro) (3.8.0)\n",
      "Collecting antlr4-python3-runtime==4.9.*\n",
      "  Using cached antlr4-python3-runtime-4.9.3.tar.gz (117 kB)\n",
      "  Preparing metadata (setup.py): started\n",
      "  Preparing metadata (setup.py): finished with status 'done'\n",
      "Collecting pygments<3.0.0,>=2.13.0\n",
      "  Using cached pygments-2.18.0-py3-none-any.whl (1.2 MB)\n",
      "Requirement already satisfied: markdown-it-py>=2.2.0 in c:\\users\\joe_w\\anaconda3\\lib\\site-packages (from rich<14.0,>=12.0->kedro) (3.0.0)\n",
      "Collecting ruamel.yaml>=0.15\n",
      "  Using cached ruamel.yaml-0.18.6-py3-none-any.whl (117 kB)\n",
      "Requirement already satisfied: chardet>=3.0.2 in c:\\users\\joe_w\\anaconda3\\lib\\site-packages (from binaryornot>=0.4.4->cookiecutter<3.0,>=2.1.1->kedro) (4.0.0)\n",
      "Collecting smmap<6,>=3.0.1\n",
      "  Using cached smmap-5.0.1-py3-none-any.whl (24 kB)\n",
      "Requirement already satisfied: MarkupSafe>=0.23 in c:\\users\\joe_w\\anaconda3\\lib\\site-packages (from Jinja2<4.0.0,>=2.7->cookiecutter<3.0,>=2.1.1->kedro) (2.0.1)\n",
      "Requirement already satisfied: mdurl~=0.1 in c:\\users\\joe_w\\anaconda3\\lib\\site-packages (from markdown-it-py>=2.2.0->rich<14.0,>=12.0->kedro) (0.1.2)\n",
      "Requirement already satisfied: pyparsing!=3.0.5,>=2.0.2 in c:\\users\\joe_w\\anaconda3\\lib\\site-packages (from packaging>=19.1->build>=0.7.0->kedro) (3.0.9)\n",
      "Requirement already satisfied: text-unidecode>=1.3 in c:\\users\\joe_w\\anaconda3\\lib\\site-packages (from python-slugify>=4.0.0->cookiecutter<3.0,>=2.1.1->kedro) (1.3)\n",
      "Requirement already satisfied: certifi>=2017.4.17 in c:\\users\\joe_w\\anaconda3\\lib\\site-packages (from requests>=2.23.0->cookiecutter<3.0,>=2.1.1->kedro) (2022.9.14)\n",
      "Requirement already satisfied: urllib3<1.27,>=1.21.1 in c:\\users\\joe_w\\anaconda3\\lib\\site-packages (from requests>=2.23.0->cookiecutter<3.0,>=2.1.1->kedro) (1.26.11)\n",
      "Requirement already satisfied: idna<4,>=2.5 in c:\\users\\joe_w\\anaconda3\\lib\\site-packages (from requests>=2.23.0->cookiecutter<3.0,>=2.1.1->kedro) (3.3)\n",
      "Requirement already satisfied: charset-normalizer<3,>=2 in c:\\users\\joe_w\\anaconda3\\lib\\site-packages (from requests>=2.23.0->cookiecutter<3.0,>=2.1.1->kedro) (2.0.4)\n",
      "Collecting ruamel.yaml.clib>=0.2.7\n",
      "  Downloading ruamel.yaml.clib-0.2.8-cp39-cp39-win_amd64.whl (118 kB)\n",
      "     ------------------------------------ 118.4/118.4 kB 693.3 kB/s eta 0:00:00\n",
      "Requirement already satisfied: python-dateutil>=2.7.0 in c:\\users\\joe_w\\anaconda3\\lib\\site-packages (from arrow->cookiecutter<3.0,>=2.1.1->kedro) (2.8.2)\n",
      "Requirement already satisfied: six>=1.5 in c:\\users\\joe_w\\anaconda3\\lib\\site-packages (from python-dateutil>=2.7.0->arrow->cookiecutter<3.0,>=2.1.1->kedro) (1.16.0)\n",
      "Building wheels for collected packages: antlr4-python3-runtime\n",
      "  Building wheel for antlr4-python3-runtime (setup.py): started\n",
      "  Building wheel for antlr4-python3-runtime (setup.py): finished with status 'done'\n",
      "  Created wheel for antlr4-python3-runtime: filename=antlr4_python3_runtime-4.9.3-py3-none-any.whl size=144566 sha256=5dbb7f913227c100a2e3e72ba6e47d5ee2662fdaf018e1d60cd97e20fef4729a\n",
      "  Stored in directory: c:\\users\\joe_w\\appdata\\local\\pip\\cache\\wheels\\23\\cf\\80\\f3efa822e6ab23277902ee9165fe772eeb1dfb8014f359020a\n",
      "Successfully built antlr4-python3-runtime\n",
      "Installing collected packages: parse, antlr4-python3-runtime, smmap, ruamel.yaml.clib, pyproject_hooks, pygments, omegaconf, more-itertools, importlib-resources, dynaconf, cachetools, ruamel.yaml, rich, gitdb, build, pre-commit-hooks, gitpython, cookiecutter, kedro\n",
      "  Attempting uninstall: pygments\n",
      "    Found existing installation: Pygments 2.11.2\n",
      "    Uninstalling Pygments-2.11.2:\n",
      "      Successfully uninstalled Pygments-2.11.2\n",
      "  Attempting uninstall: cookiecutter\n",
      "    Found existing installation: cookiecutter 1.7.3\n",
      "    Uninstalling cookiecutter-1.7.3:\n",
      "      Successfully uninstalled cookiecutter-1.7.3\n",
      "Successfully installed antlr4-python3-runtime-4.9.3 build-1.2.1 cachetools-5.3.3 cookiecutter-2.6.0 dynaconf-3.2.5 gitdb-4.0.11 gitpython-3.1.43 importlib-resources-6.4.0 kedro-0.19.6 more-itertools-10.3.0 omegaconf-2.3.0 parse-1.20.2 pre-commit-hooks-4.6.0 pygments-2.18.0 pyproject_hooks-1.1.0 rich-13.7.1 ruamel.yaml-0.18.6 ruamel.yaml.clib-0.2.8 smmap-5.0.1\n",
      "Note: you may need to restart the kernel to use updated packages.\n"
     ]
    },
    {
     "name": "stderr",
     "output_type": "stream",
     "text": [
      "ERROR: pip's dependency resolver does not currently take into account all the packages that are installed. This behaviour is the source of the following dependency conflicts.\n",
      "spyder 5.2.2 requires pyqt5<5.13, which is not installed.\n",
      "spyder 5.2.2 requires pyqtwebengine<5.13, which is not installed.\n"
     ]
    }
   ],
   "source": [
    "#pip install kedro"
   ]
  },
  {
   "cell_type": "code",
   "execution_count": 2,
   "metadata": {},
   "outputs": [
    {
     "name": "stdout",
     "output_type": "stream",
     "text": [
      "Requirement already satisfied: pip in c:\\users\\joe_w\\anaconda3\\lib\\site-packages (22.2.2)\n",
      "Collecting pip\n",
      "  Using cached pip-24.1.2-py3-none-any.whl (1.8 MB)\n",
      "Installing collected packages: pip\n",
      "  Attempting uninstall: pip\n",
      "    Found existing installation: pip 22.2.2\n",
      "    Uninstalling pip-22.2.2:\n",
      "      Successfully uninstalled pip-22.2.2\n",
      "Successfully installed pip-24.1.2\n",
      "Note: you may need to restart the kernel to use updated packages.\n"
     ]
    }
   ],
   "source": [
    "#pip install --upgrade pip"
   ]
  },
  {
   "cell_type": "code",
   "execution_count": 3,
   "metadata": {},
   "outputs": [
    {
     "name": "stdout",
     "output_type": "stream",
     "text": [
      "Requirement already satisfied: conda in c:\\users\\joe_w\\anaconda3\\lib\\site-packages (22.9.0)\n",
      "Requirement already satisfied: pycosat>=0.6.3 in c:\\users\\joe_w\\anaconda3\\lib\\site-packages (from conda) (0.6.3)\n",
      "Requirement already satisfied: requests>=2.20.1 in c:\\users\\joe_w\\anaconda3\\lib\\site-packages (from conda) (2.28.1)\n",
      "Requirement already satisfied: ruamel_yaml_conda>=0.11.14 in c:\\users\\joe_w\\anaconda3\\lib\\site-packages (from conda) (0.15.100)\n",
      "Requirement already satisfied: menuinst in c:\\users\\joe_w\\anaconda3\\lib\\site-packages (from conda) (1.4.19)\n",
      "Requirement already satisfied: charset-normalizer<3,>=2 in c:\\users\\joe_w\\anaconda3\\lib\\site-packages (from requests>=2.20.1->conda) (2.0.4)\n",
      "Requirement already satisfied: idna<4,>=2.5 in c:\\users\\joe_w\\anaconda3\\lib\\site-packages (from requests>=2.20.1->conda) (3.3)\n",
      "Requirement already satisfied: urllib3<1.27,>=1.21.1 in c:\\users\\joe_w\\anaconda3\\lib\\site-packages (from requests>=2.20.1->conda) (1.26.11)\n",
      "Requirement already satisfied: certifi>=2017.4.17 in c:\\users\\joe_w\\anaconda3\\lib\\site-packages (from requests>=2.20.1->conda) (2022.9.14)\n",
      "Note: you may need to restart the kernel to use updated packages.\n"
     ]
    }
   ],
   "source": [
    "#pip install conda"
   ]
  }
 ],
 "metadata": {
  "kernelspec": {
   "display_name": "Python 3",
   "language": "python",
   "name": "python3"
  },
  "language_info": {
   "codemirror_mode": {
    "name": "ipython",
    "version": 3
   },
   "file_extension": ".py",
   "mimetype": "text/x-python",
   "name": "python",
   "nbconvert_exporter": "python",
   "pygments_lexer": "ipython3",
   "version": "3.11.0"
  }
 },
 "nbformat": 4,
 "nbformat_minor": 2
}
